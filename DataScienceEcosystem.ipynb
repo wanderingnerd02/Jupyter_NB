{
  "metadata": {
    "kernelspec": {
      "name": "python",
      "display_name": "Python (Pyodide)",
      "language": "python"
    },
    "language_info": {
      "codemirror_mode": {
        "name": "python",
        "version": 3
      },
      "file_extension": ".py",
      "mimetype": "text/x-python",
      "name": "python",
      "nbconvert_exporter": "python",
      "pygments_lexer": "ipython3",
      "version": "3.8"
    }
  },
  "nbformat_minor": 5,
  "nbformat": 4,
  "cells": [
    {
      "id": "8122a0fc-ced3-475a-a8fd-4cb0f96b06b7",
      "cell_type": "markdown",
      "source": "# Data Science Tools and Ecosystem",
      "metadata": {}
    },
    {
      "id": "c4167c85-1541-4ee1-96cf-6a89fc45bc6e",
      "cell_type": "markdown",
      "source": "## In this notebook, Data Science Tools and Ecosystem are summarized.",
      "metadata": {}
    },
    {
      "id": "05d61c8d-dacb-4260-a7ab-04180db07cfb",
      "cell_type": "markdown",
      "source": "**Objectives:**\n\n- List popular languages for Data Science  \n- Identify commonly used Data Science libraries and tools  \n- Create and format Markdown cells in Jupyter Notebook\n- Perform simple arithmetic operation  \n- Convert minutes to hours  ",
      "metadata": {}
    },
    {
      "id": "96b2eb3c-854c-4427-b486-3ab344be578a",
      "cell_type": "markdown",
      "source": "## Some of the popular languages that Data Scientists use are:\n1. Python\n2. Julia\n3. SQL\n4. R",
      "metadata": {}
    },
    {
      "id": "949ea812-2ae1-4800-aa5a-2999f028c8ff",
      "cell_type": "markdown",
      "source": "## Some of the commonly used libraries by Data Scientists include:\n1. PostgreSQL\n2. SQLite\n3. ggplot2\n4. caret\n5. plotly\n6. NumPy/SciPy\n7. Pandas\n8. Matplotib",
      "metadata": {}
    },
    {
      "id": "b090b748-7ca4-435a-8ac1-dfacaec313a9",
      "cell_type": "markdown",
      "source": "| Data Science Tools         |\n|:---------------------------|\n| Jupyter Notebook           |\n| RStudio                    |\n| Apache Spark               |",
      "metadata": {}
    },
    {
      "id": "be6639c1-278e-4ddd-ac2d-2ff415b16da6",
      "cell_type": "markdown",
      "source": "### Below are a few examples of evaluating arithmetic expressions in Python",
      "metadata": {}
    },
    {
      "id": "6ca96f8c-2eb4-4b2b-a5b4-4d9cb5bfb0e4",
      "cell_type": "code",
      "source": "#This a simple arithmetic expression to mutiply then add integers\n\n(3*4)+5",
      "metadata": {
        "trusted": true
      },
      "outputs": [
        {
          "execution_count": 3,
          "output_type": "execute_result",
          "data": {
            "text/plain": "17"
          },
          "metadata": {}
        }
      ],
      "execution_count": 3
    },
    {
      "id": "f14f1f92-57cd-4d04-8d55-821f0cc773b2",
      "cell_type": "code",
      "source": "#This will convert 200 minutes to hours by diving by 60\n\n200 / 60",
      "metadata": {
        "trusted": true
      },
      "outputs": [
        {
          "execution_count": 4,
          "output_type": "execute_result",
          "data": {
            "text/plain": "3.3333333333333335"
          },
          "metadata": {}
        }
      ],
      "execution_count": 4
    },
    {
      "id": "9ab001bb-d72e-4385-a983-f870f38a63ab",
      "cell_type": "code",
      "source": "",
      "metadata": {
        "trusted": true
      },
      "outputs": [],
      "execution_count": null
    },
    {
      "id": "3bf56400-a8aa-4d48-8ee7-0144cc3e4b9a",
      "cell_type": "code",
      "source": "",
      "metadata": {
        "trusted": true
      },
      "outputs": [],
      "execution_count": null
    }
  ]
}